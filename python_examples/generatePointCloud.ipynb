{
 "cells": [
  {
   "cell_type": "code",
   "execution_count": 1,
   "metadata": {},
   "outputs": [
    {
     "name": "stdout",
     "output_type": "stream",
     "text": [
      "Jupyter environment detected. Enabling Open3D WebVisualizer.\n",
      "[Open3D INFO] WebRTC GUI backend enabled.\n",
      "[Open3D INFO] WebRTCWindowSystem: HTTP handshake server disabled.\n"
     ]
    }
   ],
   "source": [
    "import open3d as o3d\n",
    "import numpy as np\n",
    "import matplotlib.pyplot as plt\n",
    "import math\n",
    "import copy"
   ]
  },
  {
   "cell_type": "code",
   "execution_count": 2,
   "metadata": {},
   "outputs": [],
   "source": [
    "###############################################################################\n",
    "# HELPER FUNCTIONS\n",
    "###############################################################################\n",
    "\n",
    "def homogeneous(ROLL, PITCH, YAW, X, Y, Z):\n",
    "    T = np.eye(4,4);\n",
    "    T[0,0] = math.cos(YAW)*math.cos(PITCH);\n",
    "    T[0,1] = math.cos(YAW)*math.sin(PITCH)*math.sin(ROLL)-math.sin(YAW)*math.cos(ROLL);\n",
    "    T[0,2] = math.cos(YAW)*math.sin(PITCH)*math.cos(ROLL)+math.sin(YAW)*math.sin(ROLL);\n",
    "    T[0,3] = X;\n",
    "    T[1,0] = math.sin(YAW)*math.cos(PITCH);\n",
    "    T[1,1] = math.sin(YAW)*math.sin(PITCH)*math.sin(ROLL)+math.cos(YAW)*math.cos(ROLL);\n",
    "    T[1,2] = math.sin(YAW)*math.sin(PITCH)*math.cos(ROLL)-math.cos(YAW)*math.sin(ROLL);\n",
    "    T[1,3] = Y;\n",
    "    T[2,0] = -math.sin(PITCH);\n",
    "    T[2,1] = math.cos(PITCH)*math.sin(ROLL);\n",
    "    T[2,2] = math.cos(PITCH)*math.cos(ROLL);\n",
    "    T[2,3] = Z;\n",
    "    T[3,3] = 1;\n",
    "    return T"
   ]
  },
  {
   "cell_type": "code",
   "execution_count": 3,
   "metadata": {},
   "outputs": [],
   "source": [
    "# .stl file path\n",
    "fileName = \"../../PLuM/sample_data/FLATFOOT_StanfordBunny_jmil_HIGH_RES_Smoothed.stl\"\n",
    "\n",
    "# point cloud sensor\n",
    "phi = np.linspace(-90,90,20) # one degree increments\n",
    "theta = np.linspace(0,90,20)  # one degree increments\n",
    "radius = 1\n",
    "origin = [0,0,0]\n",
    "\n",
    "sensorToToModel = homogeneous(0,0,30*math.pi/180,30,20,-5)"
   ]
  },
  {
   "cell_type": "code",
   "execution_count": 4,
   "metadata": {},
   "outputs": [],
   "source": [
    "# Load mesh and convert to open3d.t.geometry.TriangleMesh\n",
    "mesh = o3d.io.read_triangle_mesh(fileName)\n",
    "mesh = o3d.t.geometry.TriangleMesh.from_legacy(mesh)\n",
    "\n",
    "# Create a scene and add the triangle mesh\n",
    "scene = o3d.t.geometry.RaycastingScene()\n",
    "_ = scene.add_triangles(mesh)  # we do not need the geometry ID for mesh\n",
    "\n",
    "# min_bound = mesh.vertex.positions.min(0).numpy()\n",
    "# max_bound = mesh.vertex.positions.max(0).numpy()\n",
    "# print(min_bound)\n",
    "# print(max_bound)\n",
    "\n",
    "## transform the mesh to the correct frame\n",
    "mesh_t = copy.deepcopy(mesh).transform(sensorToToModel)\n",
    "\n",
    "## Create a scene and add the triangle mesh\n",
    "scene = o3d.t.geometry.RaycastingScene()\n",
    "_ = scene.add_triangles(mesh_t)  # we do not need the geometry ID for mesh"
   ]
  },
  {
   "cell_type": "code",
   "execution_count": 5,
   "metadata": {},
   "outputs": [],
   "source": [
    "# Raycasting\n",
    "\n",
    "# create the rays\n",
    "raysStartEnd = []\n",
    "anglesInOrder = []\n",
    "for heading in phi:\n",
    "    for elevation in theta:\n",
    "        endX = radius*math.sin(elevation*math.pi/180)*math.cos(heading*math.pi/180)\n",
    "        endY = radius*math.sin(elevation*math.pi/180)*math.sin(heading*math.pi/180)\n",
    "        endZ = radius*math.cos(elevation*math.pi/180)\n",
    "        ray = [origin[0],origin[1],origin[2],endX,endY,endZ]\n",
    "        anglesInOrder.append([heading,elevation])\n",
    "        raysStartEnd.append(ray)\n",
    "rays = o3d.core.Tensor(raysStartEnd,\n",
    "                       dtype=o3d.core.Dtype.Float32)\n",
    "\n",
    "ans = scene.cast_rays(rays)\n",
    "rayLengths = ans['t_hit'].numpy()\n",
    "\n",
    "# convert to Cartesian intersection points\n",
    "raycastIntersectionPts  = []\n",
    "\n",
    "counter = 0\n",
    "for ray in raysStartEnd:\n",
    "    if not math.isinf(rayLengths[counter]):\n",
    "        radius = rayLengths[counter]\n",
    "        heading = anglesInOrder[counter][0]\n",
    "        elevation = anglesInOrder[counter][1]\n",
    "        \n",
    "        intersectX = radius*math.sin(elevation*math.pi/180)*math.cos(heading*math.pi/180)+origin[0];\n",
    "        intersectY = radius*math.sin(elevation*math.pi/180)*math.sin(heading*math.pi/180)+origin[1];\n",
    "        intersectZ = radius*math.cos(elevation*math.pi/180)+origin[2]; \n",
    "        \n",
    "        raycastIntersectionPts.append([intersectX,intersectY,intersectZ])\n",
    "    counter = counter + 1\n",
    "     \n",
    "# print(len(rays))\n",
    "# print(len(raycastIntersectionPts))\n",
    "pts = np.array(raycastIntersectionPts)\n",
    "np.savetxt('bunnyRaycast1', pts, delimiter=' ')\n",
    "\n"
   ]
  }
 ],
 "metadata": {
  "kernelspec": {
   "display_name": "Python 3",
   "language": "python",
   "name": "python3"
  },
  "language_info": {
   "codemirror_mode": {
    "name": "ipython",
    "version": 3
   },
   "file_extension": ".py",
   "mimetype": "text/x-python",
   "name": "python",
   "nbconvert_exporter": "python",
   "pygments_lexer": "ipython3",
   "version": "3.8.10"
  },
  "orig_nbformat": 4,
  "vscode": {
   "interpreter": {
    "hash": "916dbcbb3f70747c44a77c7bcd40155683ae19c65e1c03b4aa3499c5328201f1"
   }
  }
 },
 "nbformat": 4,
 "nbformat_minor": 2
}

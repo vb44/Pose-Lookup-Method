{
 "cells": [
  {
   "cell_type": "markdown",
   "metadata": {},
   "source": [
    "## Import the required libraries."
   ]
  },
  {
   "cell_type": "code",
   "execution_count": 1,
   "metadata": {},
   "outputs": [
    {
     "name": "stdout",
     "output_type": "stream",
     "text": [
      "Jupyter environment detected. Enabling Open3D WebVisualizer.\n",
      "[Open3D INFO] WebRTC GUI backend enabled.\n",
      "[Open3D INFO] WebRTCWindowSystem: HTTP handshake server disabled.\n"
     ]
    }
   ],
   "source": [
    "import open3d as o3d\n",
    "import numpy as np\n",
    "import matplotlib.pyplot as plt\n",
    "import math\n",
    "import copy"
   ]
  },
  {
   "cell_type": "markdown",
   "metadata": {},
   "source": [
    "## Helper functions."
   ]
  },
  {
   "cell_type": "code",
   "execution_count": 2,
   "metadata": {},
   "outputs": [],
   "source": [
    "###############################################################################\n",
    "# HELPER FUNCTIONS\n",
    "###############################################################################\n",
    "\n",
    "def homogeneous(ROLL, PITCH, YAW, X, Y, Z):\n",
    "    T = np.eye(4,4);\n",
    "    T[0,0] = math.cos(YAW)*math.cos(PITCH);\n",
    "    T[0,1] = math.cos(YAW)*math.sin(PITCH)*math.sin(ROLL)-math.sin(YAW)*math.cos(ROLL);\n",
    "    T[0,2] = math.cos(YAW)*math.sin(PITCH)*math.cos(ROLL)+math.sin(YAW)*math.sin(ROLL);\n",
    "    T[0,3] = X;\n",
    "    T[1,0] = math.sin(YAW)*math.cos(PITCH);\n",
    "    T[1,1] = math.sin(YAW)*math.sin(PITCH)*math.sin(ROLL)+math.cos(YAW)*math.cos(ROLL);\n",
    "    T[1,2] = math.sin(YAW)*math.sin(PITCH)*math.cos(ROLL)-math.cos(YAW)*math.sin(ROLL);\n",
    "    T[1,3] = Y;\n",
    "    T[2,0] = -math.sin(PITCH);\n",
    "    T[2,1] = math.cos(PITCH)*math.sin(ROLL);\n",
    "    T[2,2] = math.cos(PITCH)*math.cos(ROLL);\n",
    "    T[2,3] = Z;\n",
    "    T[3,3] = 1;\n",
    "    return T"
   ]
  },
  {
   "cell_type": "markdown",
   "metadata": {},
   "source": [
    "## Configuration parameters."
   ]
  },
  {
   "cell_type": "code",
   "execution_count": 6,
   "metadata": {},
   "outputs": [],
   "source": [
    "# .stl file path\n",
    "fileName = \"../../PLuM/sample_data/FLATFOOT_StanfordBunny_jmil_HIGH_RES_Smoothed.stl\"\n",
    "outputFileName = 'bunny_lookup_table_sigma_1_05_mm.lookup'\n",
    "lookupToModel = homogeneous(0,0,0,50,40,10)\n",
    "stepSize = 0.5\n",
    "maxXYZ = [100,100,100] # [x,y,z]\n",
    "sigma = 1"
   ]
  },
  {
   "cell_type": "markdown",
   "metadata": {},
   "source": [
    "## Read the mesh file."
   ]
  },
  {
   "cell_type": "code",
   "execution_count": 7,
   "metadata": {},
   "outputs": [
    {
     "name": "stdout",
     "output_type": "stream",
     "text": [
      "[-43.148468 -33.433746   0.      ]\n",
      "[43.148468 33.433746 83.74813 ]\n",
      "[ 6.851532   6.5662537 10.       ]\n",
      "[93.14847 73.43375 93.74813]\n"
     ]
    }
   ],
   "source": [
    "## load mesh and convert to open3d.t.geometry.TriangleMesh\n",
    "mesh = o3d.io.read_triangle_mesh(fileName)\n",
    "mesh = o3d.t.geometry.TriangleMesh.from_legacy(mesh)\n",
    "\n",
    "# minimum and maximum geometry bounds\n",
    "min_bound = mesh.vertex.positions.min(0).numpy()\n",
    "max_bound = mesh.vertex.positions.max(0).numpy()\n",
    "print(min_bound)\n",
    "print(max_bound)\n",
    "\n",
    "## transform the mesh to the correct frame\n",
    "mesh_t = copy.deepcopy(mesh).transform(lookupToModel)\n",
    "\n",
    "## Create a scene and add the triangle mesh\n",
    "scene = o3d.t.geometry.RaycastingScene()\n",
    "_ = scene.add_triangles(mesh_t)  # we do not need the geometry ID for mesh\n",
    "\n",
    "## updated minimum and maximum geometry bounds \n",
    "min_bound = mesh_t.vertex.positions.min(0).numpy()\n",
    "max_bound = mesh_t.vertex.positions.max(0).numpy()\n",
    "print(min_bound)\n",
    "print(max_bound)"
   ]
  },
  {
   "cell_type": "code",
   "execution_count": 8,
   "metadata": {},
   "outputs": [
    {
     "name": "stdout",
     "output_type": "stream",
     "text": [
      "[30.418768]\n"
     ]
    }
   ],
   "source": [
    "query_point = o3d.core.Tensor([[0,0,0]], dtype=o3d.core.Dtype.Float32)\n",
    "            # print(query_point.numpy())\n",
    "unsigned_distance = scene.compute_distance(query_point)\n",
    "print(unsigned_distance.numpy())"
   ]
  },
  {
   "cell_type": "markdown",
   "metadata": {},
   "source": [
    "## Generate the Lookup table."
   ]
  },
  {
   "cell_type": "code",
   "execution_count": null,
   "metadata": {},
   "outputs": [],
   "source": [
    "closestDistance = []\n",
    "closestOccupancy = []\n",
    "rewardValues = []\n",
    "\n",
    "numX = round(maxXYZ[0]/stepSize) + 1\n",
    "numY = round(maxXYZ[1]/stepSize) + 1\n",
    "numZ = round(maxXYZ[2]/stepSize) + 1\n",
    "\n",
    "xDim = np.linspace(0,maxXYZ[0],numX)\n",
    "yDim = np.linspace(0,maxXYZ[1],numY)\n",
    "zDim = np.linspace(0,maxXYZ[2],numZ)\n",
    "\n",
    "f = open(outputFileName, 'w+b')\n",
    "\n",
    "for x in xDim:\n",
    "    for y in yDim:\n",
    "        for z in zDim:\n",
    "            query_point = o3d.core.Tensor([[x, y, z]], dtype=o3d.core.Dtype.Float32)\n",
    "            # print(query_point.numpy())\n",
    "            unsigned_distance = scene.compute_distance(query_point)\n",
    "            occupancy = scene.compute_occupancy(query_point)\n",
    "            reward = int(255 * math.exp(-0.5 * unsigned_distance.numpy() * unsigned_distance.numpy() / (sigma * sigma)));\n",
    "            closestDistance.append(unsigned_distance.numpy())\n",
    "            closestOccupancy.append(occupancy.numpy())\n",
    "            rewardValues.append(reward)\n",
    "            \n",
    "            binary_format = bytearray([reward])\n",
    "            f.write(binary_format)\n",
    "\n",
    "f.close()\n",
    "\n",
    "# rewardsToWrite = np.array(rewardValues,dtype=np.uint8)\n",
    "closestDistancesToWrite = np.array(closestDistance)\n",
    "occupancyToWrite = np.array(closestOccupancy)\n",
    "np.savetxt('lookupTable.txt', closestDistancesToWrite, delimiter=',')\n",
    "np.savetxt('lookupTableOccupancy.txt', occupancyToWrite, delimiter=',')\n",
    "# with open('test1.txt', 'w') as f:\n",
    "#     for pt in closestDistance:\n",
    "#         f.write(f\"{pt}\\n\")"
   ]
  }
 ],
 "metadata": {
  "kernelspec": {
   "display_name": "Python 3",
   "language": "python",
   "name": "python3"
  },
  "language_info": {
   "codemirror_mode": {
    "name": "ipython",
    "version": 3
   },
   "file_extension": ".py",
   "mimetype": "text/x-python",
   "name": "python",
   "nbconvert_exporter": "python",
   "pygments_lexer": "ipython3",
   "version": "3.8.10"
  },
  "orig_nbformat": 4,
  "vscode": {
   "interpreter": {
    "hash": "916dbcbb3f70747c44a77c7bcd40155683ae19c65e1c03b4aa3499c5328201f1"
   }
  }
 },
 "nbformat": 4,
 "nbformat_minor": 2
}
